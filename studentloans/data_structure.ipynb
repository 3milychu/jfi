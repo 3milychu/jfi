{
 "cells": [
  {
   "cell_type": "code",
   "execution_count": 1,
   "metadata": {
    "collapsed": true
   },
   "outputs": [],
   "source": [
    "import numpy as np\n",
    "import pandas as pd\n",
    "import matplotlib.pyplot as plt\n",
    "import pickle\n",
    "import warnings\n",
    "from skimage import io, color, transform, feature\n",
    "%matplotlib inline"
   ]
  },
  {
   "cell_type": "code",
   "execution_count": 24,
   "metadata": {
    "collapsed": true
   },
   "outputs": [],
   "source": [
    "df = pd.read_csv('/Volumes/Samsung_t3/project-repos/jfi/studentloans/data.csv')"
   ]
  },
  {
   "cell_type": "code",
   "execution_count": 25,
   "metadata": {},
   "outputs": [],
   "source": [
    "# rename columns\n",
    "df.columns = ['index','paper', 'summ', 'url', 'country', 'allocation', 'NOCT', 'involved', 'tools', 'relevance', 'economic', 'psych', 'social', 'health', 'schooling', 'means', 'research_design', 'employment_effects']"
   ]
  },
  {
   "cell_type": "code",
   "execution_count": 26,
   "metadata": {
    "collapsed": true
   },
   "outputs": [],
   "source": [
    "df = df.fillna(\"\")\n",
    "df['size'] = 40000"
   ]
  },
  {
   "cell_type": "code",
   "execution_count": 29,
   "metadata": {},
   "outputs": [
    {
     "data": {
      "text/html": [
       "<div>\n",
       "<style>\n",
       "    .dataframe thead tr:only-child th {\n",
       "        text-align: right;\n",
       "    }\n",
       "\n",
       "    .dataframe thead th {\n",
       "        text-align: left;\n",
       "    }\n",
       "\n",
       "    .dataframe tbody tr th {\n",
       "        vertical-align: top;\n",
       "    }\n",
       "</style>\n",
       "<table border=\"1\" class=\"dataframe\">\n",
       "  <thead>\n",
       "    <tr style=\"text-align: right;\">\n",
       "      <th></th>\n",
       "      <th>index</th>\n",
       "      <th>paper</th>\n",
       "      <th>summ</th>\n",
       "      <th>url</th>\n",
       "      <th>country</th>\n",
       "      <th>allocation</th>\n",
       "      <th>NOCT</th>\n",
       "      <th>involved</th>\n",
       "      <th>tools</th>\n",
       "      <th>relevance</th>\n",
       "      <th>economic</th>\n",
       "      <th>psych</th>\n",
       "      <th>social</th>\n",
       "      <th>health</th>\n",
       "      <th>schooling</th>\n",
       "      <th>means</th>\n",
       "      <th>research_design</th>\n",
       "      <th>employment_effects</th>\n",
       "      <th>size</th>\n",
       "    </tr>\n",
       "  </thead>\n",
       "  <tbody>\n",
       "    <tr>\n",
       "      <th>0</th>\n",
       "      <td>1</td>\n",
       "      <td>E.L. Forget. The town with no poverty: The hea...</td>\n",
       "      <td>A Canadian guaranteed annual income field expe...</td>\n",
       "      <td>https://www.utpjournals.press/doi/full/10.3138...</td>\n",
       "      <td></td>\n",
       "      <td>SB</td>\n",
       "      <td>A guaranteed annual income: Familities with no...</td>\n",
       "      <td>Canada</td>\n",
       "      <td></td>\n",
       "      <td>Effects on population health, reflected in eco...</td>\n",
       "      <td>1</td>\n",
       "      <td>1</td>\n",
       "      <td>0</td>\n",
       "      <td>1</td>\n",
       "      <td>0</td>\n",
       "      <td></td>\n",
       "      <td></td>\n",
       "      <td></td>\n",
       "      <td>40000</td>\n",
       "    </tr>\n",
       "  </tbody>\n",
       "</table>\n",
       "</div>"
      ],
      "text/plain": [
       "  index                                              paper  \\\n",
       "0     1  E.L. Forget. The town with no poverty: The hea...   \n",
       "\n",
       "                                                summ  \\\n",
       "0  A Canadian guaranteed annual income field expe...   \n",
       "\n",
       "                                                 url country allocation  \\\n",
       "0  https://www.utpjournals.press/doi/full/10.3138...                 SB   \n",
       "\n",
       "                                                NOCT involved tools  \\\n",
       "0  A guaranteed annual income: Familities with no...   Canada         \n",
       "\n",
       "                                           relevance  economic  psych  social  \\\n",
       "0  Effects on population health, reflected in eco...         1      1       0   \n",
       "\n",
       "   health  schooling means research_design employment_effects   size  \n",
       "0       1          0                                           40000  "
      ]
     },
     "execution_count": 29,
     "metadata": {},
     "output_type": "execute_result"
    }
   ],
   "source": [
    "cols = ['economic', 'psych', 'social', 'health', 'schooling']\n",
    "df[cols] = df[cols].replace({'Y':1, \"\":0})\n",
    "df.head(1)"
   ]
  },
  {
   "cell_type": "code",
   "execution_count": null,
   "metadata": {
    "collapsed": true
   },
   "outputs": [],
   "source": [
    "df.loc[df['economic']==1, \"path\"] = \"https://raw.githubusercontent.com/3milychu/jfi/master/assets/1.jpg\""
   ]
  }
 ],
 "metadata": {
  "kernelspec": {
   "display_name": "Python 3",
   "language": "python",
   "name": "python3"
  },
  "language_info": {
   "codemirror_mode": {
    "name": "ipython",
    "version": 3
   },
   "file_extension": ".py",
   "mimetype": "text/x-python",
   "name": "python",
   "nbconvert_exporter": "python",
   "pygments_lexer": "ipython3",
   "version": "3.6.3"
  }
 },
 "nbformat": 4,
 "nbformat_minor": 2
}
